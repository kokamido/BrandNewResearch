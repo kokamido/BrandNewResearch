{
 "cells": [
  {
   "cell_type": "code",
   "execution_count": 1,
   "metadata": {},
   "outputs": [],
   "source": [
    "import sys \n",
    "sys.path.insert(1, '../')"
   ]
  },
  {
   "cell_type": "code",
   "execution_count": 2,
   "metadata": {},
   "outputs": [],
   "source": [
    "import os\n",
    "import pylab as plt\n",
    "import numpy as np\n",
    "from tqdm import tqdm\n",
    "\n",
    "from Models.Higgins1D.Higgins1DConfiguration import Higgins1DConfiguration\n",
    "from Models.TdmaParameters1D import TdmaParameters1D\n",
    "from Models.Higgins1D.Higgins1DTdmaSolver import integrate_tdma_implicit_scheme\n",
    "from MathHelpers.InitDataHelpers import get_cos, get_normal_rand\n",
    "from DataAnalyzers.PicksAnalyzer import calc_picks\n",
    "from DataContainers.Experiment import Experiment"
   ]
  },
  {
   "cell_type": "code",
   "execution_count": 3,
   "metadata": {},
   "outputs": [],
   "source": [
    "base_dir = 'D:/math/12.01.2021'"
   ]
  },
  {
   "cell_type": "code",
   "execution_count": 4,
   "metadata": {},
   "outputs": [
    {
     "name": "stderr",
     "output_type": "stream",
     "text": [
      "100%|██████████████████████████████████████████████████████████████████████████████████| 20/20 [07:54<00:00, 23.72s/it]\n",
      "100%|██████████████████████████████████████████████████████████████████████████████████| 20/20 [07:46<00:00, 23.31s/it]\n",
      "100%|██████████████████████████████████████████████████████████████████████████████████| 20/20 [07:26<00:00, 22.34s/it]\n",
      "100%|██████████████████████████████████████████████████████████████████████████████████| 20/20 [07:26<00:00, 22.30s/it]\n",
      "100%|██████████████████████████████████████████████████████████████████████████████████| 20/20 [07:26<00:00, 22.31s/it]\n",
      "100%|██████████████████████████████████████████████████████████████████████████████████| 20/20 [07:25<00:00, 22.29s/it]\n",
      "100%|██████████████████████████████████████████████████████████████████████████████████| 20/20 [07:25<00:00, 22.29s/it]\n",
      "100%|██████████████████████████████████████████████████████████████████████████████████| 20/20 [07:26<00:00, 22.31s/it]\n",
      "100%|██████████████████████████████████████████████████████████████████████████████████| 20/20 [07:26<00:00, 22.32s/it]\n",
      "100%|██████████████████████████████████████████████████████████████████████████████████| 20/20 [07:26<00:00, 22.34s/it]\n"
     ]
    }
   ],
   "source": [
    "conf = Higgins1DConfiguration(2.0, 2.0, 20.0, 1.0)\n",
    "for q in np.arange(2,1,-.1):\n",
    "    subdir = f'{base_dir}/q_{q}'\n",
    "    for peaks_to_start in tqdm(np.arange(0.5,10.5,0.5)):\n",
    "        conf.parameters['q'] = q\n",
    "        u_init = get_cos(peaks_to_start, int(round(200*0.2/0.05)),1.0, 0.1)\n",
    "        v_init = get_cos(peaks_to_start, int(round(200*0.2/0.05)),1.0, 0.1)\n",
    "        params = TdmaParameters1D(u_init, v_init, 0.05, 0.05, 5000.0, save_timeline=True, timeline_save_step_delta=10, noise_amp=0.0001)\n",
    "        e = integrate_tdma_implicit_scheme(conf, params)\n",
    "        e.save(f'{subdir}/peaks_{peaks_to_start}')"
   ]
  },
  {
   "cell_type": "code",
   "execution_count": 5,
   "metadata": {},
   "outputs": [
    {
     "name": "stderr",
     "output_type": "stream",
     "text": [
      "100%|██████████████████████████████████████████████████████████████████████████████| 10/10 [6:28:40<00:00, 2332.03s/it]\n"
     ]
    }
   ],
   "source": [
    "conf = Higgins1DConfiguration(2.0, 2.0, 20.0, 1.0)\n",
    "for q in tqdm(np.arange(2,1,-.1)):\n",
    "    subdir = f'{base_dir}/q_{q}'\n",
    "    for i in np.arange(25,125,1):\n",
    "        if(os.path.exists(f'{subdir}/rand_{i}')):\n",
    "            continue\n",
    "        conf.parameters['q'] = q\n",
    "        u_init = get_normal_rand(int(round(200*0.2/0.05)),1.0, 0.1)\n",
    "        v_init = get_normal_rand(int(round(200*0.2/0.05)),1.0, 0.1)\n",
    "        params = TdmaParameters1D(u_init, v_init, 0.05, 0.05, 5000.0, save_timeline=True, timeline_save_step_delta=10, noise_amp=0.0001)\n",
    "        e = integrate_tdma_implicit_scheme(conf, params)\n",
    "        e.save(f'{subdir}/rand_{i}')"
   ]
  },
  {
   "cell_type": "code",
   "execution_count": null,
   "metadata": {},
   "outputs": [],
   "source": []
  }
 ],
 "metadata": {
  "kernelspec": {
   "display_name": "Python 3",
   "language": "python",
   "name": "python3"
  },
  "language_info": {
   "codemirror_mode": {
    "name": "ipython",
    "version": 3
   },
   "file_extension": ".py",
   "mimetype": "text/x-python",
   "name": "python",
   "nbconvert_exporter": "python",
   "pygments_lexer": "ipython3",
   "version": "3.7.9"
  }
 },
 "nbformat": 4,
 "nbformat_minor": 4
}