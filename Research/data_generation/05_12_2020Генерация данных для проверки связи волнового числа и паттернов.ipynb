{
 "cells": [
  {
   "cell_type": "code",
   "execution_count": 11,
   "metadata": {},
   "outputs": [],
   "source": [
    "import sys \n",
    "sys.path.insert(1, '../')"
   ]
  },
  {
   "cell_type": "code",
   "execution_count": 18,
   "metadata": {},
   "outputs": [],
   "source": [
    "import os\n",
    "import pylab as plt\n",
    "import numpy as np\n",
    "from tqdm import tqdm\n",
    "\n",
    "from Models.Higgins1D.Higgins1DConfiguration import Higgins1DConfiguration, Higgins1DTdmaParameters\n",
    "from Models.Higgins1D.Higgins1DTdmaSolver import integrate_tdma_implicit_scheme\n",
    "from MathHelpers.InitDataHelpers import get_cos, get_normal_rand\n",
    "from DataAnalyzers.PicksAnalyzer import calc_picks\n",
    "from DataContainers.Experiment import Experiment"
   ]
  },
  {
   "cell_type": "code",
   "execution_count": 19,
   "metadata": {},
   "outputs": [],
   "source": [
    "base_dir = 'D:\\\\math\\\\data05_12_2020'"
   ]
  },
  {
   "cell_type": "code",
   "execution_count": 21,
   "metadata": {},
   "outputs": [
    {
     "name": "stderr",
     "output_type": "stream",
     "text": [
      "100%|█████████████████████████████████████████████████████████████████████████████████| 19/19 [41:05<00:00, 129.78s/it]\n"
     ]
    }
   ],
   "source": [
    "conf = Higgins1DConfiguration(2.0, 2.0, 16.5, 1)\n",
    "for peaks_to_start in tqdm(range(1,20)):\n",
    "    for Du in np.arange(16,26,1):\n",
    "        subdir = f'{peaks_to_start}_peak/Du_{Du}'\n",
    "        for dt in [0.1,0.05, 0.01]:\n",
    "            for dx in [0.2,0.1,0.05]:\n",
    "                conf.parameters['Du'] = Du\n",
    "                u_init = get_cos(peaks_to_start, int(round(200*0.2/dx)),1.0, 0.1)\n",
    "                v_init = get_cos(peaks_to_start, int(round(200*0.2/dx)),1.0, 0.1)\n",
    "                params = Higgins1DTdmaParameters(u_init, v_init, dx, dt, 5000.0, save_timeline=True, timeline_save_step_delta=int(round(10*0.1/dt)))\n",
    "                e = integrate_tdma_implicit_scheme(conf, params)\n",
    "                e.save(f'{base_dir}/OnePeakBastard/soft_case/{subdir}/dt_{dt}_dx_{dx}')"
   ]
  },
  {
   "cell_type": "code",
   "execution_count": 22,
   "metadata": {},
   "outputs": [
    {
     "name": "stderr",
     "output_type": "stream",
     "text": [
      "100%|███████████████████████████████████████████████████████████████████████████████| 19/19 [1:51:01<00:00, 350.60s/it]\n"
     ]
    }
   ],
   "source": [
    "conf = Higgins1DConfiguration(1.0, 0.2, 16.5, 1)\n",
    "for peaks_to_start in tqdm(range(1,20)):\n",
    "    for Du in np.arange(6,20,1):\n",
    "        subdir = f'{peaks_to_start}_peak/Du_{Du}'\n",
    "        for dt in [0.1,0.05, 0.01]:\n",
    "            for dx in [0.2,0.1,0.05]:\n",
    "                conf.parameters['Du'] = Du\n",
    "                u_init = get_cos(peaks_to_start, int(round(200*0.2/dx)),1.0, 0.1)\n",
    "                v_init = get_cos(peaks_to_start, int(round(200*0.2/dx)),1.0, 0.1)\n",
    "                params = Higgins1DTdmaParameters(u_init, v_init, dx, dt, 5000.0, save_timeline=True, timeline_save_step_delta=int(round(10*0.1/dt)))\n",
    "                e = integrate_tdma_implicit_scheme(conf, params)\n",
    "                e.save(f'{base_dir}/OnePeakBastard/hard_case/{subdir}/dt_{dt}_dx_{dx}')"
   ]
  },
  {
   "cell_type": "code",
   "execution_count": 23,
   "metadata": {},
   "outputs": [],
   "source": [
    "conf = Higgins1DConfiguration(2.0, 2.0, 18, 1)\n",
    "subdir = 'from4peak'\n",
    "dt = 0.1\n",
    "dx = 0.05\n",
    "for avg in np.arange(0.1,2.1,0.1):\n",
    "    for amp in np.arange(0.1,1.1,0.1):\n",
    "        u_init = get_cos(4, int(round(200*0.2/dx)),avg, amp)\n",
    "        v_init = get_cos(4, int(round(200*0.2/dx)),avg, amp)\n",
    "        params = Higgins1DTdmaParameters(u_init, v_init, dx, dt, 5000.0, save_timeline=False)\n",
    "        e = integrate_tdma_implicit_scheme(conf, params)\n",
    "        e.save(f'{base_dir}/tryFind4Peak/{subdir}/avg_{avg}_amp_{amp}')       "
   ]
  },
  {
   "cell_type": "code",
   "execution_count": 25,
   "metadata": {},
   "outputs": [
    {
     "name": "stderr",
     "output_type": "stream",
     "text": [
      " 60%|████████████████████████████████████████████████                                | 6/10 [1:08:18<45:26, 681.68s/it]Higgins1d evaluation failed\n",
      " 60%|████████████████████████████████████████████████                                | 6/10 [1:14:05<49:23, 740.84s/it]\n"
     ]
    },
    {
     "ename": "ArithmeticError",
     "evalue": "Higgins1d evaluation failed",
     "output_type": "error",
     "traceback": [
      "\u001b[1;31m---------------------------------------------------------------------------\u001b[0m",
      "\u001b[1;31mArithmeticError\u001b[0m                           Traceback (most recent call last)",
      "\u001b[1;32m<ipython-input-25-ccf40ebf8641>\u001b[0m in \u001b[0;36m<module>\u001b[1;34m\u001b[0m\n\u001b[0;32m      8\u001b[0m         \u001b[0mv_init\u001b[0m \u001b[1;33m=\u001b[0m \u001b[0mget_normal_rand\u001b[0m\u001b[1;33m(\u001b[0m\u001b[0mint\u001b[0m\u001b[1;33m(\u001b[0m\u001b[0mround\u001b[0m\u001b[1;33m(\u001b[0m\u001b[1;36m200\u001b[0m\u001b[1;33m*\u001b[0m\u001b[1;36m0.2\u001b[0m\u001b[1;33m/\u001b[0m\u001b[0mdx\u001b[0m\u001b[1;33m)\u001b[0m\u001b[1;33m)\u001b[0m\u001b[1;33m,\u001b[0m\u001b[1;36m1.0\u001b[0m\u001b[1;33m,\u001b[0m \u001b[0mamp\u001b[0m\u001b[1;33m)\u001b[0m\u001b[1;33m\u001b[0m\u001b[1;33m\u001b[0m\u001b[0m\n\u001b[0;32m      9\u001b[0m         \u001b[0mparams\u001b[0m \u001b[1;33m=\u001b[0m \u001b[0mHiggins1DTdmaParameters\u001b[0m\u001b[1;33m(\u001b[0m\u001b[0mu_init\u001b[0m\u001b[1;33m,\u001b[0m \u001b[0mv_init\u001b[0m\u001b[1;33m,\u001b[0m \u001b[0mdx\u001b[0m\u001b[1;33m,\u001b[0m \u001b[0mdt\u001b[0m\u001b[1;33m,\u001b[0m \u001b[1;36m5000.0\u001b[0m\u001b[1;33m,\u001b[0m \u001b[0msave_timeline\u001b[0m\u001b[1;33m=\u001b[0m\u001b[1;32mFalse\u001b[0m\u001b[1;33m)\u001b[0m\u001b[1;33m\u001b[0m\u001b[1;33m\u001b[0m\u001b[0m\n\u001b[1;32m---> 10\u001b[1;33m         \u001b[0me\u001b[0m \u001b[1;33m=\u001b[0m \u001b[0mintegrate_tdma_implicit_scheme\u001b[0m\u001b[1;33m(\u001b[0m\u001b[0mconf\u001b[0m\u001b[1;33m,\u001b[0m \u001b[0mparams\u001b[0m\u001b[1;33m)\u001b[0m\u001b[1;33m\u001b[0m\u001b[1;33m\u001b[0m\u001b[0m\n\u001b[0m\u001b[0;32m     11\u001b[0m         \u001b[0me\u001b[0m\u001b[1;33m.\u001b[0m\u001b[0msave\u001b[0m\u001b[1;33m(\u001b[0m\u001b[1;34mf'{base_dir}/tryFind4Peak/{subdir}/avg_{avg}_amp_{amp}_i_{i}'\u001b[0m\u001b[1;33m)\u001b[0m\u001b[1;33m\u001b[0m\u001b[1;33m\u001b[0m\u001b[0m\n",
      "\u001b[1;32m~\\Desktop\\BrandNewResearch\\Models\\Higgins1D\\Higgins1DTdmaSolver.py\u001b[0m in \u001b[0;36mintegrate_tdma_implicit_scheme\u001b[1;34m(config, settings)\u001b[0m\n\u001b[0;32m     39\u001b[0m     \u001b[1;32mif\u001b[0m \u001b[0mu\u001b[0m \u001b[1;32mis\u001b[0m \u001b[1;32mNone\u001b[0m\u001b[1;33m:\u001b[0m\u001b[1;33m\u001b[0m\u001b[1;33m\u001b[0m\u001b[0m\n\u001b[0;32m     40\u001b[0m         \u001b[0mlog\u001b[0m\u001b[1;33m.\u001b[0m\u001b[0merror\u001b[0m\u001b[1;33m(\u001b[0m\u001b[1;34m'Higgins1d evaluation failed'\u001b[0m\u001b[1;33m)\u001b[0m\u001b[1;33m\u001b[0m\u001b[1;33m\u001b[0m\u001b[0m\n\u001b[1;32m---> 41\u001b[1;33m         \u001b[1;32mraise\u001b[0m \u001b[0mArithmeticError\u001b[0m\u001b[1;33m(\u001b[0m\u001b[1;34m'Higgins1d evaluation failed'\u001b[0m\u001b[1;33m)\u001b[0m\u001b[1;33m\u001b[0m\u001b[1;33m\u001b[0m\u001b[0m\n\u001b[0m\u001b[0;32m     42\u001b[0m     \u001b[0mlog\u001b[0m\u001b[1;33m.\u001b[0m\u001b[0minfo\u001b[0m\u001b[1;33m(\u001b[0m\u001b[1;34m'Higgins1d evaluation  successfully finished'\u001b[0m\u001b[1;33m)\u001b[0m\u001b[1;33m\u001b[0m\u001b[1;33m\u001b[0m\u001b[0m\n\u001b[0;32m     43\u001b[0m     \u001b[0mres\u001b[0m \u001b[1;33m=\u001b[0m \u001b[0mExperiment\u001b[0m\u001b[1;33m(\u001b[0m\u001b[1;33m)\u001b[0m\u001b[1;33m\u001b[0m\u001b[1;33m\u001b[0m\u001b[0m\n",
      "\u001b[1;31mArithmeticError\u001b[0m: Higgins1d evaluation failed"
     ]
    }
   ],
   "source": [
    "conf = Higgins1DConfiguration(2.0, 2.0, 18, 1)\n",
    "subdir = 'fromRand'\n",
    "dt = 0.1\n",
    "dx = 0.05\n",
    "for amp in tqdm(np.arange(0.1,1.1,0.1)):\n",
    "    for i in range(1000):\n",
    "        u_init = get_normal_rand(int(round(200*0.2/dx)),1.0, amp)\n",
    "        v_init = get_normal_rand(int(round(200*0.2/dx)),1.0, amp)\n",
    "        params = Higgins1DTdmaParameters(u_init, v_init, dx, dt, 5000.0, save_timeline=False)\n",
    "        e = integrate_tdma_implicit_scheme(conf, params)\n",
    "        e.save(f'{base_dir}/tryFind4Peak/{subdir}/avg_{avg}_amp_{amp}_i_{i}')       "
   ]
  },
  {
   "cell_type": "code",
   "execution_count": null,
   "metadata": {},
   "outputs": [],
   "source": []
  }
 ],
 "metadata": {
  "kernelspec": {
   "display_name": "Python 3",
   "language": "python",
   "name": "python3"
  },
  "language_info": {
   "codemirror_mode": {
    "name": "ipython",
    "version": 3
   },
   "file_extension": ".py",
   "mimetype": "text/x-python",
   "name": "python",
   "nbconvert_exporter": "python",
   "pygments_lexer": "ipython3",
   "version": "3.7.9"
  }
 },
 "nbformat": 4,
 "nbformat_minor": 4
}
