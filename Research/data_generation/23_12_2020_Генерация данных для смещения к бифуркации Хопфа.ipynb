{
 "cells": [
  {
   "cell_type": "code",
   "execution_count": 1,
   "metadata": {},
   "outputs": [],
   "source": [
    "import sys \n",
    "sys.path.insert(1, '../')"
   ]
  },
  {
   "cell_type": "code",
   "execution_count": 2,
   "metadata": {},
   "outputs": [],
   "source": [
    "import os\n",
    "import pylab as plt\n",
    "import numpy as np\n",
    "from tqdm import tqdm\n",
    "\n",
    "from Models.Higgins1D.Higgins1DConfiguration import Higgins1DConfiguration\n",
    "from Models.TdmaParameters1D import TdmaParameters1D\n",
    "from Models.Higgins1D.Higgins1DTdmaSolver import integrate_tdma_implicit_scheme\n",
    "from MathHelpers.InitDataHelpers import get_cos, get_normal_rand\n",
    "from DataAnalyzers.PeaksAnalyzer import calc_peacks\n",
    "from DataContainers.Experiment import Experiment"
   ]
  },
  {
   "cell_type": "code",
   "execution_count": 4,
   "metadata": {},
   "outputs": [],
   "source": [
    "base_dir = 'D:\\\\math\\\\data23_12_2020'"
   ]
  },
  {
   "cell_type": "code",
   "execution_count": 9,
   "metadata": {},
   "outputs": [
    {
     "name": "stderr",
     "output_type": "stream",
     "text": [
      "100%|██████████████████████████████████████████████████████████████████████████████████| 20/20 [00:56<00:00,  2.81s/it]\n",
      "100%|██████████████████████████████████████████████████████████████████████████████████| 20/20 [00:48<00:00,  2.41s/it]\n",
      "100%|██████████████████████████████████████████████████████████████████████████████████| 20/20 [00:55<00:00,  2.78s/it]\n",
      "100%|██████████████████████████████████████████████████████████████████████████████████| 20/20 [00:51<00:00,  2.57s/it]\n",
      "100%|██████████████████████████████████████████████████████████████████████████████████| 20/20 [00:50<00:00,  2.53s/it]\n",
      "100%|██████████████████████████████████████████████████████████████████████████████████| 20/20 [00:49<00:00,  2.49s/it]\n",
      "100%|██████████████████████████████████████████████████████████████████████████████████| 20/20 [00:51<00:00,  2.59s/it]\n",
      "100%|██████████████████████████████████████████████████████████████████████████████████| 20/20 [00:53<00:00,  2.69s/it]\n",
      "100%|██████████████████████████████████████████████████████████████████████████████████| 20/20 [00:56<00:00,  2.84s/it]\n",
      "100%|██████████████████████████████████████████████████████████████████████████████████| 20/20 [01:00<00:00,  3.02s/it]\n"
     ]
    }
   ],
   "source": [
    "conf = Higgins1DConfiguration(2.0, 2.0, 20.0, 1.0)\n",
    "for q in np.arange(2,1,-.1):\n",
    "    subdir = f'{base_dir}/q_{q}'\n",
    "    for peaks_to_start in tqdm(np.arange(0.5,10.5,0.5)):\n",
    "        conf.parameters['q'] = q\n",
    "        u_init = get_cos(peaks_to_start, int(round(200*0.2/0.05)),1.0, 0.1)\n",
    "        v_init = get_cos(peaks_to_start, int(round(200*0.2/0.05)),1.0, 0.1)\n",
    "        params = TdmaParameters1D(u_init, v_init, 0.05, 0.05, 5000.0, save_timeline=True, timeline_save_step_delta=10)\n",
    "        e = integrate_tdma_implicit_scheme(conf, params)\n",
    "        e.save(f'{subdir}/peaks_{peaks_to_start}')"
   ]
  },
  {
   "cell_type": "code",
   "execution_count": 15,
   "metadata": {},
   "outputs": [
    {
     "name": "stderr",
     "output_type": "stream",
     "text": [
      "100%|█████████████████████████████████████████████████████████████████████████████████| 10/10 [34:23<00:00, 206.35s/it]\n"
     ]
    }
   ],
   "source": [
    "conf = Higgins1DConfiguration(2.0, 2.0, 20.0, 1.0)\n",
    "for q in tqdm(np.arange(2,1,-.1)):\n",
    "    subdir = f'{base_dir}/q_{q}'\n",
    "    for i in np.arange(25,125,1):\n",
    "        if(os.path.exists(f'{subdir}/rand_{i}')):\n",
    "            continue\n",
    "        conf.parameters['q'] = q\n",
    "        u_init = get_normal_rand(int(round(200*0.2/0.05)),1.0, 0.1)\n",
    "        v_init = get_normal_rand(int(round(200*0.2/0.05)),1.0, 0.1)\n",
    "        params = TdmaParameters1D(u_init, v_init, 0.05, 0.05, 5000.0, save_timeline=True, timeline_save_step_delta=10)\n",
    "        e = integrate_tdma_implicit_scheme(conf, params)\n",
    "        e.save(f'{subdir}/rand_{i}')"
   ]
  },
  {
   "cell_type": "code",
   "execution_count": 14,
   "metadata": {},
   "outputs": [
    {
     "name": "stderr",
     "output_type": "stream",
     "text": [
      "100%|██████████████████████████████████████████████████████████████████████████████████| 20/20 [00:36<00:00,  1.83s/it]\n",
      "100%|██████████████████████████████████████████████████████████████████████████████████| 20/20 [00:43<00:00,  2.17s/it]\n",
      "100%|██████████████████████████████████████████████████████████████████████████████████| 20/20 [00:44<00:00,  2.20s/it]\n",
      "100%|██████████████████████████████████████████████████████████████████████████████████| 20/20 [00:43<00:00,  2.19s/it]\n",
      "100%|██████████████████████████████████████████████████████████████████████████████████| 20/20 [00:46<00:00,  2.31s/it]\n",
      "100%|██████████████████████████████████████████████████████████████████████████████████| 20/20 [00:46<00:00,  2.33s/it]\n",
      "100%|██████████████████████████████████████████████████████████████████████████████████| 20/20 [00:54<00:00,  2.72s/it]\n",
      "100%|██████████████████████████████████████████████████████████████████████████████████| 20/20 [01:05<00:00,  3.28s/it]\n",
      "100%|██████████████████████████████████████████████████████████████████████████████████| 20/20 [01:16<00:00,  3.83s/it]\n",
      "100%|██████████████████████████████████████████████████████████████████████████████████| 20/20 [01:27<00:00,  4.37s/it]\n"
     ]
    }
   ],
   "source": [
    "conf = Higgins1DConfiguration(2.0, 2.0, 20.0, 1.0)\n",
    "conf.parameters['p']=1.2\n",
    "for q in np.arange(1.2,0.2,-.1):\n",
    "    subdir = f'{base_dir}_hard/q_{q}'\n",
    "    for peaks_to_start in tqdm(np.arange(0.5,10.5,0.5)):\n",
    "        conf.parameters['q'] = q\n",
    "        u_init = get_cos(peaks_to_start, int(round(200*0.2/0.05)),1.0, 0.1)\n",
    "        v_init = get_cos(peaks_to_start, int(round(200*0.2/0.05)),1.0, 0.1)\n",
    "        params = TdmaParameters1D(u_init, v_init, 0.05, 0.05, 5000.0, save_timeline=True, timeline_save_step_delta=10)\n",
    "        e = integrate_tdma_implicit_scheme(conf, params)\n",
    "        e.save(f'{subdir}/peaks_{peaks_to_start}')"
   ]
  },
  {
   "cell_type": "code",
   "execution_count": 16,
   "metadata": {},
   "outputs": [
    {
     "name": "stderr",
     "output_type": "stream",
     "text": [
      "100%|███████████████████████████████████████████████████████████████████████████████| 10/10 [1:11:18<00:00, 427.86s/it]\n"
     ]
    }
   ],
   "source": [
    "conf = Higgins1DConfiguration(2.0, 2.0, 20.0, 1.0)\n",
    "conf.parameters['p']=1.2\n",
    "for q in tqdm(np.arange(1.2,0.2,-.1)):\n",
    "    subdir = f'{base_dir}_hard/q_{q}'\n",
    "    for i in np.arange(25,125,1):\n",
    "        if(os.path.exists(f'{subdir}/rand_{i}')):\n",
    "            continue\n",
    "        conf.parameters['q'] = q\n",
    "        u_init = get_normal_rand(int(round(200*0.2/0.05)),1.0, 0.1)\n",
    "        v_init = get_normal_rand(int(round(200*0.2/0.05)),1.0, 0.1)\n",
    "        params = TdmaParameters1D(u_init, v_init, 0.05, 0.05, 5000.0, save_timeline=True, timeline_save_step_delta=10)\n",
    "        e = integrate_tdma_implicit_scheme(conf, params)\n",
    "        e.save(f'{subdir}/rand_{i}')"
   ]
  },
  {
   "cell_type": "code",
   "execution_count": null,
   "metadata": {},
   "outputs": [],
   "source": []
  }
 ],
 "metadata": {
  "kernelspec": {
   "display_name": "Python 3",
   "language": "python",
   "name": "python3"
  },
  "language_info": {
   "codemirror_mode": {
    "name": "ipython",
    "version": 3
   },
   "file_extension": ".py",
   "mimetype": "text/x-python",
   "name": "python",
   "nbconvert_exporter": "python",
   "pygments_lexer": "ipython3",
   "version": "3.7.9"
  }
 },
 "nbformat": 4,
 "nbformat_minor": 4
}