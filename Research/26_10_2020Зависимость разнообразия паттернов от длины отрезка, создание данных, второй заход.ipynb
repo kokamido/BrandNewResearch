{
 "cells": [
  {
   "cell_type": "markdown",
   "metadata": {},
   "source": [
    "Генерация данных для поиска \"дыр\" в параметрах, где не формируются паттерны\n",
    "\n",
    "Генерация данных для проверки гипотезы про малые коэффициенты диффузии"
   ]
  },
  {
   "cell_type": "code",
   "execution_count": 1,
   "metadata": {},
   "outputs": [],
   "source": [
    "import sys\n",
    "sys.path.insert(1, '../')"
   ]
  },
  {
   "cell_type": "code",
   "execution_count": 2,
   "metadata": {},
   "outputs": [],
   "source": [
    "import numpy as np\n",
    "import os\n",
    "import tqdm\n",
    "\n",
    "from DataContainers.Experiment import Experiment\n",
    "from PythonHeplers.IOHelpers import do_with_all_subfolders\n",
    "from DataAnalyzers.PicksAnalyzer import calc_picks\n",
    "\n",
    "from Models.Higgins1D.Higgins1DConfiguration import Higgins1DConfiguration, Higgins1DTdmaParameters\n",
    "from Models.Higgins1D.Higgins1DTdmaSolver import integrate_tdma_implicit_scheme\n",
    "from MathHelpers.InitDataHelpers import get_cos, get_normal_rand\n",
    "from Logging.logger import log"
   ]
  },
  {
   "cell_type": "code",
   "execution_count": 3,
   "metadata": {},
   "outputs": [],
   "source": [
    "base_dir = 'data'"
   ]
  },
  {
   "cell_type": "code",
   "execution_count": 4,
   "metadata": {},
   "outputs": [
    {
     "name": "stderr",
     "output_type": "stream",
     "text": [
      "100%|██████████| 50/50 [1:29:25<00:00, 107.30s/it]\n"
     ]
    }
   ],
   "source": [
    "subdir = os.path.join(base_dir,'small_diffusion_L_from_4_to_5')\n",
    "conf = Higgins1DConfiguration(2.0, 2.0, 0.2, 0.01)\n",
    "for i, x_max in enumerate(tqdm.tqdm(np.linspace(4,5,50))):\n",
    "    for j in range(5):\n",
    "        u_init = get_normal_rand(200,1.0, 0.1)\n",
    "        v_init = get_normal_rand(200,1.0, 0.1)\n",
    "        params = Higgins1DTdmaParameters(u_init, v_init, 0.005 * x_max, 0.01, 5000.0, True, 100)\n",
    "        res = integrate_tdma_implicit_scheme(conf, params)\n",
    "        res.save(os.path.join(subdir, f'{i}_{j}'))"
   ]
  },
  {
   "cell_type": "code",
   "execution_count": 5,
   "metadata": {},
   "outputs": [
    {
     "name": "stderr",
     "output_type": "stream",
     "text": [
      "100%|██████████| 50/50 [1:16:56<00:00, 92.33s/it] \n"
     ]
    }
   ],
   "source": [
    "subdir = os.path.join(base_dir,'small_diffusion_L_from_4_to_5_check')\n",
    "conf = Higgins1DConfiguration(2.0, 2.0, 0.2, 0.01)\n",
    "for i, x_max in enumerate(tqdm.tqdm(np.linspace(4,5,50))):\n",
    "    for j in range(5):\n",
    "        u_init = get_normal_rand(800,1.0, 0.1)\n",
    "        v_init = get_normal_rand(800,1.0, 0.1)\n",
    "        params = Higgins1DTdmaParameters(u_init, v_init, 0.00125 * x_max, 0.01, 5000.0, True, 200)\n",
    "        res = integrate_tdma_implicit_scheme(conf, params)\n",
    "        res.save(os.path.join(subdir, f'{i}_{j}'))"
   ]
  },
  {
   "cell_type": "code",
   "execution_count": null,
   "metadata": {},
   "outputs": [],
   "source": [
    "subdir = os.path.join(base_dir,'small_diffusion_L_from_14.6_to_15.0')\n",
    "conf = Higgins1DConfiguration(2.0, 2.0, 0.2, 0.01)\n",
    "for i, x_max in enumerate(tqdm.tqdm(np.linspace(14.6,15,50))):\n",
    "    for j in range(5):\n",
    "        u_init = get_normal_rand(200,1.0, 0.1)\n",
    "        v_init = get_normal_rand(200,1.0, 0.1)\n",
    "        params = Higgins1DTdmaParameters(u_init, v_init, 0.005 * x_max, 0.01, 5000.0, True, 100)\n",
    "        res = integrate_tdma_implicit_scheme(conf, params)\n",
    "        res.save(os.path.join(subdir, f'{i}_{j}'))"
   ]
  },
  {
   "cell_type": "code",
   "execution_count": null,
   "metadata": {},
   "outputs": [],
   "source": [
    "subdir = os.path.join(base_dir,'small_diffusion_L_from_14.6_to_15.0_check')\n",
    "conf = Higgins1DConfiguration(2.0, 2.0, 0.2, 0.01)\n",
    "for i, x_max in enumerate(tqdm.tqdm(np.linspace(14.6,15,50))):\n",
    "    for j in range(5):\n",
    "        u_init = get_normal_rand(800,1.0, 0.1)\n",
    "        v_init = get_normal_rand(800,1.0, 0.1)\n",
    "        params = Higgins1DTdmaParameters(u_init, v_init, 0.00125 * x_max, 0.01, 5000.0, True, 200)\n",
    "        res = integrate_tdma_implicit_scheme(conf, params)\n",
    "        res.save(os.path.join(subdir, f'{i}_{j}'))"
   ]
  },
  {
   "cell_type": "code",
   "execution_count": 7,
   "metadata": {},
   "outputs": [
    {
     "name": "stderr",
     "output_type": "stream",
     "text": [
      "100%|██████████| 50/50 [57:11<00:00, 68.64s/it]   \n"
     ]
    }
   ],
   "source": [
    "subdir = os.path.join(base_dir,'normal_diffusion_L_from_4_to_5')\n",
    "os.mkdir(subdir)\n",
    "conf = Higgins1DConfiguration(2.0, 2.0, 20, 1)\n",
    "for i, x_max in enumerate(tqdm.tqdm(np.linspace(4,5,50))):\n",
    "    for j in range(5):\n",
    "        u_init = get_normal_rand(200,1.0, 0.1)\n",
    "        v_init = get_normal_rand(200,1.0, 0.1)\n",
    "        params = Higgins1DTdmaParameters(u_init, v_init, 0.005 * x_max, 0.01, 5000.0, True, 100)\n",
    "        res = integrate_tdma_implicit_scheme(conf, params)\n",
    "        res.save(os.path.join(subdir, f'{i}_{j}'))"
   ]
  },
  {
   "cell_type": "code",
   "execution_count": 8,
   "metadata": {},
   "outputs": [
    {
     "name": "stderr",
     "output_type": "stream",
     "text": [
      "100%|██████████| 50/50 [49:22<00:00, 59.26s/it]   \n"
     ]
    }
   ],
   "source": [
    "subdir = os.path.join(base_dir,'normal_diffusion_L_from_4_to_5_check')\n",
    "os.mkdir(subdir)\n",
    "conf = Higgins1DConfiguration(2.0, 2.0, 20, 1)\n",
    "for i, x_max in enumerate(tqdm.tqdm(np.linspace(4,5,50))):\n",
    "    for j in range(5):\n",
    "        u_init = get_normal_rand(800,1.0, 0.1)\n",
    "        v_init = get_normal_rand(800,1.0, 0.1)\n",
    "        params = Higgins1DTdmaParameters(u_init, v_init, 0.00125 * x_max, 0.01, 5000.0, True, 100)\n",
    "        res = integrate_tdma_implicit_scheme(conf, params)\n",
    "        res.save(os.path.join(subdir, f'{i}_{j}'))"
   ]
  },
  {
   "cell_type": "code",
   "execution_count": 9,
   "metadata": {},
   "outputs": [
    {
     "name": "stderr",
     "output_type": "stream",
     "text": [
      "100%|██████████| 50/50 [32:30<00:00, 39.01s/it]\n"
     ]
    }
   ],
   "source": [
    "subdir = os.path.join(base_dir,'normal_diffusion_L_from_14.6_to_15.0')\n",
    "os.mkdir(subdir)\n",
    "conf = Higgins1DConfiguration(2.0, 2.0, 20, 1)\n",
    "for i, x_max in enumerate(tqdm.tqdm(np.linspace(14.6,15,50))):\n",
    "    for j in range(5):\n",
    "        u_init = get_normal_rand(200,1.0, 0.1)\n",
    "        v_init = get_normal_rand(200,1.0, 0.1)\n",
    "        params = Higgins1DTdmaParameters(u_init, v_init, 0.005 * x_max, 0.01, 5000.0, True, 100)\n",
    "        res = integrate_tdma_implicit_scheme(conf, params)\n",
    "        res.save(os.path.join(subdir, f'{i}_{j}'))"
   ]
  },
  {
   "cell_type": "code",
   "execution_count": 10,
   "metadata": {},
   "outputs": [
    {
     "name": "stderr",
     "output_type": "stream",
     "text": [
      "100%|██████████| 50/50 [33:06<00:00, 39.74s/it]\n"
     ]
    }
   ],
   "source": [
    "subdir = os.path.join(base_dir,'normal_diffusion_L_from_14.6_to_15.0_check')\n",
    "os.mkdir(subdir)\n",
    "conf = Higgins1DConfiguration(2.0, 2.0, 20, 1)\n",
    "for i, x_max in enumerate(tqdm.tqdm(np.linspace(14.6,15,50))):\n",
    "    for j in range(5):\n",
    "        u_init = get_normal_rand(800,1.0, 0.1)\n",
    "        v_init = get_normal_rand(800,1.0, 0.1)\n",
    "        params = Higgins1DTdmaParameters(u_init, v_init, 0.00125 * x_max, 0.01, 5000.0, True, 100)\n",
    "        res = integrate_tdma_implicit_scheme(conf, params)\n",
    "        res.save(os.path.join(subdir, f'{i}_{j}'))"
   ]
  },
  {
   "cell_type": "code",
   "execution_count": 11,
   "metadata": {},
   "outputs": [
    {
     "name": "stderr",
     "output_type": "stream",
     "text": [
      " 83%|████████▎ | 260/315 [16:59:11<3:35:35, 235.20s/it] \n"
     ]
    },
    {
     "ename": "KeyboardInterrupt",
     "evalue": "",
     "output_type": "error",
     "traceback": [
      "\u001b[1;31m---------------------------------------------------------------------------\u001b[0m",
      "\u001b[1;31mKeyboardInterrupt\u001b[0m                         Traceback (most recent call last)",
      "\u001b[1;32m<ipython-input-11-d662be1b021a>\u001b[0m in \u001b[0;36m<module>\u001b[1;34m\u001b[0m\n\u001b[0;32m      7\u001b[0m         \u001b[0mv_init\u001b[0m \u001b[1;33m=\u001b[0m \u001b[0mget_normal_rand\u001b[0m\u001b[1;33m(\u001b[0m\u001b[1;36m200\u001b[0m\u001b[1;33m,\u001b[0m\u001b[1;36m1.0\u001b[0m\u001b[1;33m,\u001b[0m \u001b[1;36m0.1\u001b[0m\u001b[1;33m)\u001b[0m\u001b[1;33m\u001b[0m\u001b[1;33m\u001b[0m\u001b[0m\n\u001b[0;32m      8\u001b[0m         \u001b[0mparams\u001b[0m \u001b[1;33m=\u001b[0m \u001b[0mHiggins1DTdmaParameters\u001b[0m\u001b[1;33m(\u001b[0m\u001b[0mu_init\u001b[0m\u001b[1;33m,\u001b[0m \u001b[0mv_init\u001b[0m\u001b[1;33m,\u001b[0m \u001b[1;36m0.005\u001b[0m \u001b[1;33m*\u001b[0m \u001b[0mx_max\u001b[0m\u001b[1;33m,\u001b[0m \u001b[1;36m0.01\u001b[0m\u001b[1;33m,\u001b[0m \u001b[1;36m5000.0\u001b[0m\u001b[1;33m,\u001b[0m \u001b[1;32mTrue\u001b[0m\u001b[1;33m,\u001b[0m \u001b[1;36m100\u001b[0m\u001b[1;33m)\u001b[0m\u001b[1;33m\u001b[0m\u001b[1;33m\u001b[0m\u001b[0m\n\u001b[1;32m----> 9\u001b[1;33m         \u001b[0mres\u001b[0m \u001b[1;33m=\u001b[0m \u001b[0mintegrate_tdma_implicit_scheme\u001b[0m\u001b[1;33m(\u001b[0m\u001b[0mconf\u001b[0m\u001b[1;33m,\u001b[0m \u001b[0mparams\u001b[0m\u001b[1;33m)\u001b[0m\u001b[1;33m\u001b[0m\u001b[1;33m\u001b[0m\u001b[0m\n\u001b[0m\u001b[0;32m     10\u001b[0m         \u001b[0mres\u001b[0m\u001b[1;33m.\u001b[0m\u001b[0msave\u001b[0m\u001b[1;33m(\u001b[0m\u001b[0mos\u001b[0m\u001b[1;33m.\u001b[0m\u001b[0mpath\u001b[0m\u001b[1;33m.\u001b[0m\u001b[0mjoin\u001b[0m\u001b[1;33m(\u001b[0m\u001b[0msubdir\u001b[0m\u001b[1;33m,\u001b[0m \u001b[1;34mf'{i}_{j}'\u001b[0m\u001b[1;33m)\u001b[0m\u001b[1;33m)\u001b[0m\u001b[1;33m\u001b[0m\u001b[1;33m\u001b[0m\u001b[0m\n",
      "\u001b[1;32m~\\Desktop\\BrandNewResearch\\Models\\Higgins1D\\Higgins1DTdmaSolver.py\u001b[0m in \u001b[0;36mintegrate_tdma_implicit_scheme\u001b[1;34m(config, settings)\u001b[0m\n\u001b[0;32m     36\u001b[0m                                                              \u001b[0mu_init\u001b[0m\u001b[1;33m,\u001b[0m \u001b[0mv_init\u001b[0m\u001b[1;33m,\u001b[0m\u001b[1;33m\u001b[0m\u001b[1;33m\u001b[0m\u001b[0m\n\u001b[0;32m     37\u001b[0m                                                              \u001b[0msettings\u001b[0m\u001b[1;33m[\u001b[0m\u001b[1;34m'save_timeline'\u001b[0m\u001b[1;33m]\u001b[0m\u001b[1;33m,\u001b[0m\u001b[1;33m\u001b[0m\u001b[1;33m\u001b[0m\u001b[0m\n\u001b[1;32m---> 38\u001b[1;33m                                                              settings['timeline_save_step_delta'])\n\u001b[0m\u001b[0;32m     39\u001b[0m     \u001b[1;32mif\u001b[0m \u001b[0mu\u001b[0m \u001b[1;32mis\u001b[0m \u001b[1;32mNone\u001b[0m\u001b[1;33m:\u001b[0m\u001b[1;33m\u001b[0m\u001b[1;33m\u001b[0m\u001b[0m\n\u001b[0;32m     40\u001b[0m         \u001b[0mlog\u001b[0m\u001b[1;33m.\u001b[0m\u001b[0merror\u001b[0m\u001b[1;33m(\u001b[0m\u001b[1;34m'Higgins1d evaluation failed'\u001b[0m\u001b[1;33m)\u001b[0m\u001b[1;33m\u001b[0m\u001b[1;33m\u001b[0m\u001b[0m\n",
      "\u001b[1;31mKeyboardInterrupt\u001b[0m: "
     ]
    }
   ],
   "source": [
    "subdir = os.path.join(base_dir,'normal_diffusion_L_from_4_to_160')\n",
    "os.mkdir(subdir)\n",
    "conf = Higgins1DConfiguration(2.0, 2.0, 20, 1)\n",
    "for i, x_max in enumerate(tqdm.tqdm(np.linspace(4,160,315))):\n",
    "    for j in range(5):\n",
    "        u_init = get_normal_rand(200,1.0, 0.1)\n",
    "        v_init = get_normal_rand(200,1.0, 0.1)\n",
    "        params = Higgins1DTdmaParameters(u_init, v_init, 0.005 * x_max, 0.01, 5000.0, True, 100)\n",
    "        res = integrate_tdma_implicit_scheme(conf, params)\n",
    "        res.save(os.path.join(subdir, f'{i}_{j}'))"
   ]
  },
  {
   "cell_type": "code",
   "execution_count": null,
   "metadata": {},
   "outputs": [],
   "source": [
    "subdir = os.path.join(base_dir,'normal_diffusion_L_from_4_to_160_check')\n",
    "os.mkdir(subdir)\n",
    "conf = Higgins1DConfiguration(2.0, 2.0, 20, 1)\n",
    "for i, x_max in enumerate(tqdm.tqdm(np.linspace(4,160,315))):\n",
    "    for j in range(5):\n",
    "        u_init = get_normal_rand(800,1.0, 0.1)\n",
    "        v_init = get_normal_rand(800,1.0, 0.1)\n",
    "        params = Higgins1DTdmaParameters(u_init, v_init, 0.00125 * x_max, 0.01, 5000.0, True, 100)\n",
    "        res = integrate_tdma_implicit_scheme(conf, params)\n",
    "        res.save(os.path.join(subdir, f'{i}_{j}'))"
   ]
  },
  {
   "cell_type": "code",
   "execution_count": null,
   "metadata": {},
   "outputs": [],
   "source": []
  }
 ],
 "metadata": {
  "kernelspec": {
   "display_name": "Python 3",
   "language": "python",
   "name": "python3"
  },
  "language_info": {
   "codemirror_mode": {
    "name": "ipython",
    "version": 3
   },
   "file_extension": ".py",
   "mimetype": "text/x-python",
   "name": "python",
   "nbconvert_exporter": "python",
   "pygments_lexer": "ipython3",
   "version": "3.7.7"
  }
 },
 "nbformat": 4,
 "nbformat_minor": 4
}
