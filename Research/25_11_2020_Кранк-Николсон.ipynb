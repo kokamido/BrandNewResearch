{
 "cells": [
  {
   "cell_type": "markdown",
   "metadata": {},
   "source": [
    "### Система"
   ]
  },
  {
   "cell_type": "markdown",
   "metadata": {},
   "source": [
    "$$\n",
    "\\Large\\left\\{\\begin{array}{c}\n",
    "\\dot{u}=1-u v+D_{u}\\frac{\\partial^{2} u}{\\partial x^{2}} \\\\\n",
    "\\dot{v}=p v\\left(u-\\frac{1+q}{q+v}\\right)+D_{v}\\frac{\\partial^{2} v}{\\partial x^{2}}\n",
    "\\end{array}\\right..\n",
    "$$"
   ]
  },
  {
   "cell_type": "markdown",
   "metadata": {},
   "source": [
    "### Общая идея"
   ]
  },
  {
   "cell_type": "markdown",
   "metadata": {},
   "source": [
    "$${\\Large \\Lambda u^j = \\frac{u^j_{i-1}-2u^j_i+u^j_{i+1}}{h^2}}$$"
   ]
  },
  {
   "cell_type": "markdown",
   "metadata": {},
   "source": [
    "$${\\Large \\frac{u^{j+1}_i - u^{j}_i}{\\tau} = f(u^{j+\\frac{1}{2}}_i, v^{j+\\frac{1}{2}}_i)+\\frac{1}{2}D_u(\\Lambda u^{j+1} + \\Lambda u^j)}$$"
   ]
  },
  {
   "cell_type": "markdown",
   "metadata": {},
   "source": [
    "$$\n",
    "{\\Large f(u^{j+\\frac{1}{2}}_i, v^{j+\\frac{1}{2}}_i) = f(u^j_i, v^j_i)+\\frac{\\partial f}{\\partial u}(u^j_i, v^j_i)(u^{j+\\frac{1}{2}}_i - u^j_i) + \\frac{\\partial f}{\\partial v}(u^j_i, v^j_i)(v^{j+\\frac{1}{2}}_i - v^j_i)}\n",
    "$$"
   ]
  },
  {
   "cell_type": "markdown",
   "metadata": {},
   "source": [
    "$${\\Large u^{j+\\frac{1}{2}}_i - u^j_i = \\frac{\\partial u}{\\partial t}(u^j_i, v^j_i)\\frac{\\tau}{2}}$$"
   ]
  },
  {
   "cell_type": "markdown",
   "metadata": {},
   "source": [
    "$${\\Large \\frac{\\partial{u}}{\\partial t}(u^j_i, v^j_i) = f(u^j_i, v^j_i) + D_u \\Lambda u^j}$$"
   ]
  },
  {
   "cell_type": "markdown",
   "metadata": {},
   "source": [
    "### Применительно к модели"
   ]
  },
  {
   "cell_type": "markdown",
   "metadata": {},
   "source": [
    "$${\\Large \\frac{\\partial{u^j_i}}{\\partial t} = 1 - u^j_i v^j_i + D_u \\Lambda u^j}$$"
   ]
  },
  {
   "cell_type": "markdown",
   "metadata": {},
   "source": [
    "$${\\Large \\frac{\\partial{v^j_i}}{\\partial t} = p v^j_i\\left(u^j_i-\\frac{1+q}{q+v^j_i}\\right)+ D_v \\Lambda v^j}$$"
   ]
  },
  {
   "cell_type": "markdown",
   "metadata": {},
   "source": [
    "### Для U"
   ]
  },
  {
   "cell_type": "markdown",
   "metadata": {},
   "source": [
    "$\n",
    "\\begin{align}\n",
    "& \\Large f(u^{j+\\frac{1}{2}}_i, v^{j+\\frac{1}{2}}_i) = \\\\\n",
    "& = \\Large 1 - u^j_i v^j_i +\\\\\n",
    "& \\Large - v^j_i(1 - u^j_i v^j_i + D_u \\Lambda u^j)\\frac{\\tau}{2} +\\\\\n",
    "& \\Large - u^j_i(p v^j_i\\left(u^j_i-\\frac{1+q}{q+v^j_i}\\right)+ D_v \\Lambda v^j)\\frac{\\tau}{2}\n",
    "\\end{align}\n",
    "$"
   ]
  },
  {
   "cell_type": "markdown",
   "metadata": {},
   "source": [
    "### Для V"
   ]
  },
  {
   "cell_type": "markdown",
   "metadata": {},
   "source": [
    "$\n",
    "\\begin{align}\n",
    "& \\Large \\frac{\\partial g}{\\partial u} = pv\\\\\n",
    "& \\Large \\frac{\\partial g}{\\partial v} = p\\left(u-\\frac{1+q}{q+v}\\right)+pv\\frac{1+q}{(q+v)^2}\n",
    "\\end{align}\n",
    "$"
   ]
  },
  {
   "cell_type": "markdown",
   "metadata": {},
   "source": [
    "### Итого для V"
   ]
  },
  {
   "cell_type": "markdown",
   "metadata": {},
   "source": [
    "$\n",
    "\\begin{align}\n",
    "& \\Large g(u^{j+\\frac{1}{2}}_i, v^{j+\\frac{1}{2}}_i) = \\\\\n",
    "& \\Large p v^j_i \\left(u^j_i-\\frac{1+q}{q+v^j_i}\\right) + \\\\\n",
    "& \\Large + (pv^j_i)(1 - u^j_i v^j_i + D_u \\Lambda u^j)\\frac{\\tau}{2} +\\\\\n",
    "& \\Large + \\left(p\\left[u^j_i-\\frac{1+q}{q+v^j_i}\\right]+pv^j_i\\frac{1+q}{(q+v^j_i)^2}\\right)\\left(p v^j_i\\left[u^j_i-\\frac{1+q}{q+v^j_i}\\right]+ D_v \\Lambda v^j\\right)\\frac{\\tau}{2}\n",
    "\\end{align}\n",
    "$"
   ]
  },
  {
   "cell_type": "code",
   "execution_count": null,
   "metadata": {},
   "outputs": [],
   "source": []
  }
 ],
 "metadata": {
  "kernelspec": {
   "display_name": "Python 3",
   "language": "python",
   "name": "python3"
  },
  "language_info": {
   "codemirror_mode": {
    "name": "ipython",
    "version": 3
   },
   "file_extension": ".py",
   "mimetype": "text/x-python",
   "name": "python",
   "nbconvert_exporter": "python",
   "pygments_lexer": "ipython3",
   "version": "3.6.8"
  }
 },
 "nbformat": 4,
 "nbformat_minor": 4
}
