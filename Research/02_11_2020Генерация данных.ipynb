{
 "cells": [
  {
   "cell_type": "markdown",
   "metadata": {},
   "source": [
    "Генерация данных для: 03_11_2020 Исследование рождения и смерти паттернов, проверка верности Тьюринговской границы для малых диффузий.ipynb\n",
    "\n",
    "1) рождаются (умирают) из нуля или жестко\n",
    "2) задвоение восьмёрки\n",
    "3) Сохраняется ли граница Тьюринга для малой диффузии\n",
    "\n"
   ]
  },
  {
   "cell_type": "code",
   "execution_count": 1,
   "metadata": {},
   "outputs": [],
   "source": [
    "import sys\n",
    "sys.path.insert(1, '../')"
   ]
  },
  {
   "cell_type": "code",
   "execution_count": 2,
   "metadata": {},
   "outputs": [],
   "source": [
    "import numpy as np\n",
    "import os\n",
    "from tqdm import tqdm\n",
    "\n",
    "from Models.Higgins1D.Higgins1DConfiguration import Higgins1DConfiguration, Higgins1DTdmaParameters\n",
    "from Models.Higgins1D.Higgins1DTdmaSolver import integrate_tdma_implicit_scheme\n",
    "from MathHelpers.InitDataHelpers import get_cos, get_normal_rand"
   ]
  },
  {
   "cell_type": "code",
   "execution_count": 3,
   "metadata": {},
   "outputs": [],
   "source": [
    "base_dir = 'D:\\\\math\\\\data02_11_2020'\n",
    "borders = {0: [4.0, 8.968152866242038], #данные из '03_11_2020 Исследование рождения и смерти паттернов, проверка верности Тьюринговской границы для малых диффузий.ipynb'\n",
    " 0.5: [4.993630573248407, 7.9745222929936315],\n",
    " 1.0: [9.464968152866241, 14.929936305732486],\n",
    " 1.5: [14.929936305732486, 21.388535031847134],\n",
    " 2.0: [21.388535031847134, 28.343949044585987],\n",
    " 2.5: [27.35031847133758, 35.796178343949045],\n",
    " 3.0: [32.318471337579616, 41.75796178343949],\n",
    " 3.5: [38.77707006369427, 49.210191082802545],\n",
    " 4.0: [43.745222929936304, 54.675159235668794],\n",
    " 4.5: [49.210191082802545, 63.61783439490446],\n",
    " 5.0: [54.178343949044596, 69.0828025477707],\n",
    " 5.5: [59.14649681528663, 76.03821656050955],\n",
    " 6.0: [65.60509554140128, 83.98726114649682],\n",
    " 6.5: [72.56050955414013, 88.45859872611464],\n",
    " 7.0: [76.53503184713375, 95.91082802547771],\n",
    " 7.5: [82.0, 101.37579617834396],\n",
    " 8.0: [87.96178343949045, 108.3312101910828],\n",
    " 8.5: [93.92356687898089, 116.28025477707007],\n",
    " 9.0: [100.87898089171976, 122.24203821656052],\n",
    " 9.5: [106.8407643312102, 126.21656050955414],\n",
    " 10.0: [111.80891719745223, 132.6751592356688],\n",
    " 10.5: [115.78343949044584, 133.171974522293],\n",
    " 11.0: [124.72611464968153, 132.6751592356688],\n",
    " 11.5: [129.69426751592357, 132.6751592356688],\n",
    " 12.0: [131.68152866242036, 131.68152866242036]}"
   ]
  },
  {
   "cell_type": "code",
   "execution_count": 9,
   "metadata": {},
   "outputs": [
    {
     "name": "stderr",
     "output_type": "stream",
     "text": [
      "100%|██████████| 25/25 [07:42<00:00, 18.50s/it]\n",
      "100%|██████████| 25/25 [41:05<00:00, 98.62s/it] \n",
      "100%|██████████| 25/25 [21:41<00:00, 52.06s/it]\n",
      "100%|██████████| 25/25 [35:06<00:00, 84.25s/it] \n",
      "100%|██████████| 25/25 [37:25<00:00, 89.82s/it]  \n",
      "100%|██████████| 25/25 [16:18<00:00, 39.15s/it]\n",
      "100%|██████████| 25/25 [15:53<00:00, 38.14s/it]\n",
      "100%|██████████| 25/25 [16:47<00:00, 40.28s/it]\n",
      "100%|██████████| 25/25 [17:21<00:00, 41.66s/it]\n",
      "100%|██████████| 25/25 [19:58<00:00, 47.93s/it]\n",
      "100%|██████████| 25/25 [19:04<00:00, 45.77s/it]\n",
      "100%|██████████| 25/25 [22:36<00:00, 54.26s/it]\n",
      "100%|██████████| 25/25 [20:35<00:00, 49.43s/it]\n",
      "100%|██████████| 25/25 [28:10<00:00, 67.62s/it]\n",
      "100%|██████████| 25/25 [27:49<00:00, 66.80s/it]\n",
      "100%|██████████| 25/25 [45:17<00:00, 108.71s/it]\n",
      "100%|██████████| 25/25 [34:16<00:00, 82.26s/it]\n",
      "100%|██████████| 25/25 [46:35<00:00, 111.83s/it]\n",
      "100%|██████████| 25/25 [39:30<00:00, 94.81s/it] \n",
      "100%|██████████| 25/25 [59:27<00:00, 142.70s/it]\n",
      "100%|██████████| 25/25 [44:23<00:00, 106.56s/it]\n",
      "100%|██████████| 25/25 [1:11:09<00:00, 170.80s/it]\n",
      "100%|██████████| 25/25 [52:36<00:00, 126.24s/it]\n",
      "100%|██████████| 25/25 [1:19:19<00:00, 190.37s/it]\n",
      " 16%|█▌        | 4/25 [11:24<59:52, 171.07s/it]  \n"
     ]
    },
    {
     "ename": "KeyboardInterrupt",
     "evalue": "",
     "output_type": "error",
     "traceback": [
      "\u001b[1;31m---------------------------------------------------------------------------\u001b[0m",
      "\u001b[1;31mKeyboardInterrupt\u001b[0m                         Traceback (most recent call last)",
      "\u001b[1;32m<ipython-input-9-ab4870f07c22>\u001b[0m in \u001b[0;36m<module>\u001b[1;34m\u001b[0m\n\u001b[0;32m      8\u001b[0m             \u001b[0mv_init\u001b[0m \u001b[1;33m=\u001b[0m \u001b[0mget_normal_rand\u001b[0m\u001b[1;33m(\u001b[0m\u001b[1;36m800\u001b[0m\u001b[1;33m,\u001b[0m\u001b[1;36m1.0\u001b[0m\u001b[1;33m,\u001b[0m \u001b[1;36m0.1\u001b[0m\u001b[1;33m)\u001b[0m\u001b[1;33m\u001b[0m\u001b[1;33m\u001b[0m\u001b[0m\n\u001b[0;32m      9\u001b[0m             \u001b[0mparams\u001b[0m \u001b[1;33m=\u001b[0m \u001b[0mHiggins1DTdmaParameters\u001b[0m\u001b[1;33m(\u001b[0m\u001b[0mu_init\u001b[0m\u001b[1;33m,\u001b[0m \u001b[0mv_init\u001b[0m\u001b[1;33m,\u001b[0m \u001b[1;36m0.00125\u001b[0m \u001b[1;33m*\u001b[0m \u001b[0mx_max\u001b[0m\u001b[1;33m,\u001b[0m \u001b[1;36m0.01\u001b[0m\u001b[1;33m,\u001b[0m \u001b[1;36m5000.0\u001b[0m\u001b[1;33m)\u001b[0m\u001b[1;33m\u001b[0m\u001b[1;33m\u001b[0m\u001b[0m\n\u001b[1;32m---> 10\u001b[1;33m             \u001b[0mres\u001b[0m \u001b[1;33m=\u001b[0m \u001b[0mintegrate_tdma_implicit_scheme\u001b[0m\u001b[1;33m(\u001b[0m\u001b[0mconf\u001b[0m\u001b[1;33m,\u001b[0m \u001b[0mparams\u001b[0m\u001b[1;33m)\u001b[0m\u001b[1;33m\u001b[0m\u001b[1;33m\u001b[0m\u001b[0m\n\u001b[0m\u001b[0;32m     11\u001b[0m             \u001b[0mres\u001b[0m\u001b[1;33m.\u001b[0m\u001b[0msave\u001b[0m\u001b[1;33m(\u001b[0m\u001b[1;34mf'{subdir}\\\\left_{i}_{j}'\u001b[0m\u001b[1;33m)\u001b[0m\u001b[1;33m\u001b[0m\u001b[1;33m\u001b[0m\u001b[0m\n\u001b[0;32m     12\u001b[0m \u001b[1;33m\u001b[0m\u001b[0m\n",
      "\u001b[1;32m~\\Desktop\\BrandNewResearch\\Models\\Higgins1D\\Higgins1DTdmaSolver.py\u001b[0m in \u001b[0;36mintegrate_tdma_implicit_scheme\u001b[1;34m(config, settings)\u001b[0m\n\u001b[0;32m     36\u001b[0m                                                              \u001b[0mu_init\u001b[0m\u001b[1;33m,\u001b[0m \u001b[0mv_init\u001b[0m\u001b[1;33m,\u001b[0m\u001b[1;33m\u001b[0m\u001b[1;33m\u001b[0m\u001b[0m\n\u001b[0;32m     37\u001b[0m                                                              \u001b[0msettings\u001b[0m\u001b[1;33m[\u001b[0m\u001b[1;34m'save_timeline'\u001b[0m\u001b[1;33m]\u001b[0m\u001b[1;33m,\u001b[0m\u001b[1;33m\u001b[0m\u001b[1;33m\u001b[0m\u001b[0m\n\u001b[1;32m---> 38\u001b[1;33m                                                              settings['timeline_save_step_delta'])\n\u001b[0m\u001b[0;32m     39\u001b[0m     \u001b[1;32mif\u001b[0m \u001b[0mu\u001b[0m \u001b[1;32mis\u001b[0m \u001b[1;32mNone\u001b[0m\u001b[1;33m:\u001b[0m\u001b[1;33m\u001b[0m\u001b[1;33m\u001b[0m\u001b[0m\n\u001b[0;32m     40\u001b[0m         \u001b[0mlog\u001b[0m\u001b[1;33m.\u001b[0m\u001b[0merror\u001b[0m\u001b[1;33m(\u001b[0m\u001b[1;34m'Higgins1d evaluation failed'\u001b[0m\u001b[1;33m)\u001b[0m\u001b[1;33m\u001b[0m\u001b[1;33m\u001b[0m\u001b[0m\n",
      "\u001b[1;31mKeyboardInterrupt\u001b[0m: "
     ]
    }
   ],
   "source": [
    "for peaks in borders:\n",
    "    subdir = f'{base_dir}\\\\{peaks}_peaks'\n",
    "    left, right = borders[peaks]\n",
    "    conf = Higgins1DConfiguration(2.0, 2.0, 20, 1)\n",
    "    for i, x_max in enumerate(tqdm(np.linspace(left-0.5,left+0.5,25))):\n",
    "        for j in range(5):\n",
    "            u_init = get_normal_rand(800,1.0, 0.1)\n",
    "            v_init = get_normal_rand(800,1.0, 0.1)\n",
    "            params = Higgins1DTdmaParameters(u_init, v_init, 0.00125 * x_max, 0.01, 5000.0)\n",
    "            res = integrate_tdma_implicit_scheme(conf, params)\n",
    "            res.save(f'{subdir}\\\\left_{i}_{j}')\n",
    "    \n",
    "    for i, x_max in enumerate(tqdm(np.linspace(right-0.5,right+0.5,25))):\n",
    "        for j in range(5):\n",
    "            u_init = get_normal_rand(800,1.0, 0.1)\n",
    "            v_init = get_normal_rand(800,1.0, 0.1)\n",
    "            params = Higgins1DTdmaParameters(u_init, v_init, 0.00125 * x_max, 0.01, 5000.0)\n",
    "            res = integrate_tdma_implicit_scheme(conf, params)\n",
    "            res.save(f'{subdir}\\\\rights_{i}_{j}')\n",
    "    "
   ]
  },
  {
   "cell_type": "code",
   "execution_count": 4,
   "metadata": {},
   "outputs": [
    {
     "name": "stderr",
     "output_type": "stream",
     "text": [
      "100%|██████████| 10/10 [34:46<00:00, 208.61s/it]\n"
     ]
    }
   ],
   "source": [
    "subdir = f'{base_dir}\\\\Turing bif for small diffusion'\n",
    "for i, D_u in enumerate(tqdm(np.linspace(0.14,0.16,10))):\n",
    "    for j in range(3):\n",
    "        u_init = get_normal_rand(400,1.0, 0.1)\n",
    "        v_init = get_normal_rand(400,1.0, 0.1)\n",
    "        conf = Higgins1DConfiguration(2.0, 2.0, D_u, 0.01)\n",
    "        params = Higgins1DTdmaParameters(u_init, v_init, 0.1, 0.01, 5000.0)\n",
    "        res = integrate_tdma_implicit_scheme(conf, params)\n",
    "        res.save(f'{subdir}\\\\{D_u}_{j}')"
   ]
  },
  {
   "cell_type": "code",
   "execution_count": 6,
   "metadata": {},
   "outputs": [
    {
     "name": "stderr",
     "output_type": "stream",
     "text": [
      "100%|██████████| 40/40 [26:08<00:00, 39.22s/it]\n"
     ]
    }
   ],
   "source": [
    "conf = Higgins1DConfiguration(2.0, 2.0, 0.2, 0.01)\n",
    "subdir = f'{base_dir}\\\\patterns for small L'\n",
    "for i, x_max in enumerate(tqdm(np.linspace(0.1,4,40))):\n",
    "    for j in range(5):\n",
    "        u_init = get_normal_rand(800,1.0, 0.1)\n",
    "        v_init = get_normal_rand(800,1.0, 0.1)\n",
    "        params = Higgins1DTdmaParameters(u_init, v_init, 0.00125 * x_max, 0.01, 5000.0)\n",
    "        res = integrate_tdma_implicit_scheme(conf, params)\n",
    "        res.save(f'{subdir}\\\\{x_max}_{j}')"
   ]
  },
  {
   "cell_type": "code",
   "execution_count": 5,
   "metadata": {},
   "outputs": [
    {
     "name": "stderr",
     "output_type": "stream",
     "text": [
      "100%|██████████| 20/20 [13:43<00:00, 41.18s/it]\n"
     ]
    }
   ],
   "source": [
    "conf = Higgins1DConfiguration(2.0, 2.0, 20, 1)\n",
    "subdir = f'{base_dir}\\\\death'\n",
    "for i, x_max in enumerate(tqdm(np.linspace(15,17,20))):\n",
    "    for j in range(5):\n",
    "        u_init = get_normal_rand(400,1.0, 0.1)\n",
    "        v_init = get_normal_rand(400,1.0, 0.1)\n",
    "        params = Higgins1DTdmaParameters(u_init, v_init, 0.0025 * x_max, 0.01, 5000.0)\n",
    "        res = integrate_tdma_implicit_scheme(conf, params)\n",
    "        res.save(f'{subdir}\\\\{x_max}_{j}')"
   ]
  },
  {
   "cell_type": "code",
   "execution_count": 7,
   "metadata": {},
   "outputs": [
    {
     "name": "stderr",
     "output_type": "stream",
     "text": [
      "100%|██████████| 20/20 [03:13<00:00,  9.66s/it]\n"
     ]
    }
   ],
   "source": [
    "conf = Higgins1DConfiguration(2.0, 2.0, 20, 1)\n",
    "subdir = f'{base_dir}\\\\death_1'\n",
    "for i, x_max in enumerate(tqdm(np.linspace(15,17,20))):\n",
    "    for j in range(5):\n",
    "        u_init = get_normal_rand(400,1.0, 0.1)\n",
    "        v_init = get_normal_rand(400,1.0, 0.1)\n",
    "        params = Higgins1DTdmaParameters(u_init, v_init, 0.0025 * x_max, 0.05, 5000.0)\n",
    "        res = integrate_tdma_implicit_scheme(conf, params)\n",
    "        res.save(f'{subdir}\\\\{x_max}_{j}')"
   ]
  },
  {
   "cell_type": "code",
   "execution_count": 8,
   "metadata": {},
   "outputs": [
    {
     "name": "stderr",
     "output_type": "stream",
     "text": [
      "100%|██████████| 20/20 [01:48<00:00,  5.42s/it]\n"
     ]
    }
   ],
   "source": [
    "conf = Higgins1DConfiguration(2.0, 2.0, 20, 1)\n",
    "subdir = f'{base_dir}\\\\death_2'\n",
    "for i, x_max in enumerate(tqdm(np.linspace(15,17,20))):\n",
    "    for j in range(5):\n",
    "        u_init = get_normal_rand(400,1.0, 0.1)\n",
    "        v_init = get_normal_rand(400,1.0, 0.1)\n",
    "        params = Higgins1DTdmaParameters(u_init, v_init, 0.0025 * x_max, 0.2, 5000.0)\n",
    "        res = integrate_tdma_implicit_scheme(conf, params)\n",
    "        res.save(f'{subdir}\\\\{x_max}_{j}')"
   ]
  },
  {
   "cell_type": "code",
   "execution_count": 9,
   "metadata": {},
   "outputs": [
    {
     "name": "stderr",
     "output_type": "stream",
     "text": [
      "100%|██████████| 40/40 [07:24<00:00, 11.10s/it]\n"
     ]
    }
   ],
   "source": [
    "conf = Higgins1DConfiguration(2.0, 2.0, 20, 1)\n",
    "subdir = f'{base_dir}\\\\death_3'\n",
    "for i, x_max in enumerate(tqdm(np.linspace(15,17,40))):\n",
    "    for j in range(10):\n",
    "        u_init = get_normal_rand(400,1.0, 0.1)\n",
    "        v_init = get_normal_rand(400,1.0, 0.1)\n",
    "        params = Higgins1DTdmaParameters(u_init, v_init, 0.0025 * x_max, 0.2, 5000.0)\n",
    "        res = integrate_tdma_implicit_scheme(conf, params)\n",
    "        res.save(f'{subdir}\\\\{x_max}_{j}')"
   ]
  },
  {
   "cell_type": "code",
   "execution_count": null,
   "metadata": {},
   "outputs": [],
   "source": []
  }
 ],
 "metadata": {
  "kernelspec": {
   "display_name": "Python 3",
   "language": "python",
   "name": "python3"
  },
  "language_info": {
   "codemirror_mode": {
    "name": "ipython",
    "version": 3
   },
   "file_extension": ".py",
   "mimetype": "text/x-python",
   "name": "python",
   "nbconvert_exporter": "python",
   "pygments_lexer": "ipython3",
   "version": "3.6.8"
  }
 },
 "nbformat": 4,
 "nbformat_minor": 4
}
