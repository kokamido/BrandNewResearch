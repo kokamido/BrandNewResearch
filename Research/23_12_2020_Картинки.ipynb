{
 "cells": [
  {
   "cell_type": "code",
   "execution_count": 1,
   "metadata": {},
   "outputs": [],
   "source": [
    "import sys \n",
    "sys.path.insert(1, '../')"
   ]
  },
  {
   "cell_type": "code",
   "execution_count": 39,
   "metadata": {},
   "outputs": [],
   "source": [
    "import os\n",
    "from tqdm import tqdm\n",
    "import pylab as plt\n",
    "import numpy as np\n",
    "import pandas as pd\n",
    "from DataAnalyzers.PeaksAnalyzer import calc_peacks\n",
    "from DataContainers.Experiment import Experiment\n",
    "from Drawing.DrawHelper import set_defaults_1D\n",
    "from Drawing.DrawTransient1d import draw_amps_stat, draw_transient, draw_timeline_deltas, draw_arr_WxH"
   ]
  },
  {
   "cell_type": "code",
   "execution_count": 19,
   "metadata": {},
   "outputs": [],
   "source": [
    "base_dir = 'D:/math/data23_12_2020'\n",
    "set_defaults_1D()"
   ]
  },
  {
   "cell_type": "code",
   "execution_count": null,
   "metadata": {},
   "outputs": [],
   "source": [
    "for q in os.listdir(base_dir):\n",
    "    if q == 'pics':\n",
    "        continue\n",
    "    subdir = f'{base_dir}/{q}'\n",
    "    for folder in tqdm(os.listdir(subdir)):\n",
    "        e = Experiment()\n",
    "        e.fill_from_file(f'{subdir}/{folder}',load_timelines=True)\n",
    "        draw_transient(e)\n",
    "        subsubdir = 'rand' if 'rand' in folder else 'peaks'\n",
    "        plt.savefig(f'{base_dir}/pics/{subsubdir}/q_{round(float(q.split(\"_\")[1]),3)}_{folder}.png')\n",
    "        plt.clf()\n",
    "        plt.cla()"
   ]
  },
  {
   "cell_type": "code",
   "execution_count": null,
   "metadata": {},
   "outputs": [],
   "source": [
    "for q in os.listdir(f'{base_dir}_hard'):\n",
    "    if q == 'pics':\n",
    "        continue\n",
    "    subdir = f'{base_dir}_hard/{q}'\n",
    "    for folder in tqdm(os.listdir(subdir)):\n",
    "        e = Experiment()\n",
    "        e.fill_from_file(f'{subdir}/{folder}',load_timelines=True)\n",
    "        draw_transient(e)\n",
    "        subsubdir = 'rand' if 'rand' in folder else 'peaks'\n",
    "        plt.savefig(f'{base_dir}_hard/pics/{subsubdir}/q_{round(float(q.split(\"_\")[1]),3)}_{folder}.png')\n",
    "        plt.clf()\n",
    "        plt.cla()"
   ]
  },
  {
   "cell_type": "code",
   "execution_count": 46,
   "metadata": {},
   "outputs": [],
   "source": [
    "def calc_peak_stats(folder):\n",
    "    res = pd.DataFrame(columns = ['q','p_count', 'p_dir'])\n",
    "    for q in tqdm(os.listdir(folder)):\n",
    "        if q == 'pics':\n",
    "            continue\n",
    "        q_float = round(float(q.split(\"_\")[1]),3)\n",
    "        for f in os.listdir(f'{folder}/{q}'):\n",
    "            e = Experiment()\n",
    "            e.fill_from_file(f'{folder}/{q}/{f}')\n",
    "            pcks = calc_peacks(e.end_values['u'])\n",
    "            res = res.append({'q':q_float,'p_count':pcks['peaks'], 'p_dir':pcks['direction']}, ignore_index=True)\n",
    "    return res"
   ]
  },
  {
   "cell_type": "code",
   "execution_count": 47,
   "metadata": {},
   "outputs": [
    {
     "name": "stderr",
     "output_type": "stream",
     "text": [
      "100%|██████████████████████████████████████████████████████████████████████████████████| 11/11 [00:26<00:00,  2.42s/it]\n"
     ]
    }
   ],
   "source": [
    "soft = calc_peak_stats('D:/math/data23_12_2020')"
   ]
  },
  {
   "cell_type": "code",
   "execution_count": 60,
   "metadata": {},
   "outputs": [
    {
     "name": "stderr",
     "output_type": "stream",
     "text": [
      "100%|██████████████████████████████████████████████████████████████████████████████████| 11/11 [00:05<00:00,  2.15it/s]\n"
     ]
    }
   ],
   "source": [
    "hard = calc_peak_stats('D:/math/data23_12_2020_hard')"
   ]
  },
  {
   "cell_type": "code",
   "execution_count": 59,
   "metadata": {},
   "outputs": [
    {
     "name": "stderr",
     "output_type": "stream",
     "text": [
      "c:\\users\\alexandr.pankratov\\appdata\\local\\programs\\python\\python36\\lib\\site-packages\\ipykernel_launcher.py:1: FutureWarning: Indexing with multiple keys (implicitly converted to a tuple of keys) will be deprecated, use a list instead.\n",
      "  \"\"\"Entry point for launching an IPython kernel.\n"
     ]
    },
    {
     "data": {
      "text/html": [
       "<div>\n",
       "<style scoped>\n",
       "    .dataframe tbody tr th:only-of-type {\n",
       "        vertical-align: middle;\n",
       "    }\n",
       "\n",
       "    .dataframe tbody tr th {\n",
       "        vertical-align: top;\n",
       "    }\n",
       "\n",
       "    .dataframe thead tr th {\n",
       "        text-align: left;\n",
       "    }\n",
       "\n",
       "    .dataframe thead tr:last-of-type th {\n",
       "        text-align: right;\n",
       "    }\n",
       "</style>\n",
       "<table border=\"1\" class=\"dataframe\">\n",
       "  <thead>\n",
       "    <tr>\n",
       "      <th></th>\n",
       "      <th>p_count</th>\n",
       "      <th>p_dir</th>\n",
       "    </tr>\n",
       "    <tr>\n",
       "      <th></th>\n",
       "      <th>unique</th>\n",
       "      <th>unique</th>\n",
       "    </tr>\n",
       "    <tr>\n",
       "      <th>q</th>\n",
       "      <th></th>\n",
       "      <th></th>\n",
       "    </tr>\n",
       "  </thead>\n",
       "  <tbody>\n",
       "    <tr>\n",
       "      <th>1.1</th>\n",
       "      <td>[2.5, 3.0, 3.5]</td>\n",
       "      <td>[down, up]</td>\n",
       "    </tr>\n",
       "    <tr>\n",
       "      <th>1.2</th>\n",
       "      <td>[2.5, 3.0, 3.5]</td>\n",
       "      <td>[down, up]</td>\n",
       "    </tr>\n",
       "    <tr>\n",
       "      <th>1.3</th>\n",
       "      <td>[3.5, 3.0, 2.5]</td>\n",
       "      <td>[down, up]</td>\n",
       "    </tr>\n",
       "    <tr>\n",
       "      <th>1.4</th>\n",
       "      <td>[3.5, 3.0, 2.5]</td>\n",
       "      <td>[down, up]</td>\n",
       "    </tr>\n",
       "    <tr>\n",
       "      <th>1.5</th>\n",
       "      <td>[3.5, 3.0, 2.5]</td>\n",
       "      <td>[down, up]</td>\n",
       "    </tr>\n",
       "    <tr>\n",
       "      <th>1.6</th>\n",
       "      <td>[3.5, 3.0, 2.5]</td>\n",
       "      <td>[down, up]</td>\n",
       "    </tr>\n",
       "    <tr>\n",
       "      <th>1.7</th>\n",
       "      <td>[3.5, 3.0, 2.5]</td>\n",
       "      <td>[down, up]</td>\n",
       "    </tr>\n",
       "    <tr>\n",
       "      <th>1.8</th>\n",
       "      <td>[3.5, 3.0]</td>\n",
       "      <td>[down, up]</td>\n",
       "    </tr>\n",
       "    <tr>\n",
       "      <th>1.9</th>\n",
       "      <td>[3.5, 3.0]</td>\n",
       "      <td>[down, up]</td>\n",
       "    </tr>\n",
       "    <tr>\n",
       "      <th>2.0</th>\n",
       "      <td>[3.5, 3.0]</td>\n",
       "      <td>[down, up]</td>\n",
       "    </tr>\n",
       "  </tbody>\n",
       "</table>\n",
       "</div>"
      ],
      "text/plain": [
       "             p_count       p_dir\n",
       "              unique      unique\n",
       "q                               \n",
       "1.1  [2.5, 3.0, 3.5]  [down, up]\n",
       "1.2  [2.5, 3.0, 3.5]  [down, up]\n",
       "1.3  [3.5, 3.0, 2.5]  [down, up]\n",
       "1.4  [3.5, 3.0, 2.5]  [down, up]\n",
       "1.5  [3.5, 3.0, 2.5]  [down, up]\n",
       "1.6  [3.5, 3.0, 2.5]  [down, up]\n",
       "1.7  [3.5, 3.0, 2.5]  [down, up]\n",
       "1.8       [3.5, 3.0]  [down, up]\n",
       "1.9       [3.5, 3.0]  [down, up]\n",
       "2.0       [3.5, 3.0]  [down, up]"
      ]
     },
     "execution_count": 59,
     "metadata": {},
     "output_type": "execute_result"
    }
   ],
   "source": [
    "soft.groupby('q')['p_count', 'p_dir'].agg(['unique'])"
   ]
  },
  {
   "cell_type": "code",
   "execution_count": 61,
   "metadata": {},
   "outputs": [
    {
     "name": "stderr",
     "output_type": "stream",
     "text": [
      "c:\\users\\alexandr.pankratov\\appdata\\local\\programs\\python\\python36\\lib\\site-packages\\ipykernel_launcher.py:1: FutureWarning: Indexing with multiple keys (implicitly converted to a tuple of keys) will be deprecated, use a list instead.\n",
      "  \"\"\"Entry point for launching an IPython kernel.\n"
     ]
    },
    {
     "data": {
      "text/html": [
       "<div>\n",
       "<style scoped>\n",
       "    .dataframe tbody tr th:only-of-type {\n",
       "        vertical-align: middle;\n",
       "    }\n",
       "\n",
       "    .dataframe tbody tr th {\n",
       "        vertical-align: top;\n",
       "    }\n",
       "\n",
       "    .dataframe thead tr th {\n",
       "        text-align: left;\n",
       "    }\n",
       "\n",
       "    .dataframe thead tr:last-of-type th {\n",
       "        text-align: right;\n",
       "    }\n",
       "</style>\n",
       "<table border=\"1\" class=\"dataframe\">\n",
       "  <thead>\n",
       "    <tr>\n",
       "      <th></th>\n",
       "      <th>p_count</th>\n",
       "      <th>p_dir</th>\n",
       "    </tr>\n",
       "    <tr>\n",
       "      <th></th>\n",
       "      <th>unique</th>\n",
       "      <th>unique</th>\n",
       "    </tr>\n",
       "    <tr>\n",
       "      <th>q</th>\n",
       "      <th></th>\n",
       "      <th></th>\n",
       "    </tr>\n",
       "  </thead>\n",
       "  <tbody>\n",
       "    <tr>\n",
       "      <th>0.3</th>\n",
       "      <td>[3.0, 2.0, 2.5]</td>\n",
       "      <td>[up, down]</td>\n",
       "    </tr>\n",
       "    <tr>\n",
       "      <th>0.4</th>\n",
       "      <td>[3.0, 2.0, 2.5]</td>\n",
       "      <td>[up, down]</td>\n",
       "    </tr>\n",
       "    <tr>\n",
       "      <th>0.5</th>\n",
       "      <td>[3.0, 2.0, 2.5]</td>\n",
       "      <td>[up, down]</td>\n",
       "    </tr>\n",
       "    <tr>\n",
       "      <th>0.6</th>\n",
       "      <td>[2.5, 2.0, 3.0]</td>\n",
       "      <td>[down, up]</td>\n",
       "    </tr>\n",
       "    <tr>\n",
       "      <th>0.7</th>\n",
       "      <td>[2.5, 3.0]</td>\n",
       "      <td>[down, up]</td>\n",
       "    </tr>\n",
       "    <tr>\n",
       "      <th>0.8</th>\n",
       "      <td>[2.5, 3.0]</td>\n",
       "      <td>[down, up]</td>\n",
       "    </tr>\n",
       "    <tr>\n",
       "      <th>0.9</th>\n",
       "      <td>[2.5, 3.0]</td>\n",
       "      <td>[down, up]</td>\n",
       "    </tr>\n",
       "    <tr>\n",
       "      <th>1.0</th>\n",
       "      <td>[2.5, 3.0]</td>\n",
       "      <td>[down, up]</td>\n",
       "    </tr>\n",
       "    <tr>\n",
       "      <th>1.1</th>\n",
       "      <td>[2.5, 3.0]</td>\n",
       "      <td>[down, up]</td>\n",
       "    </tr>\n",
       "    <tr>\n",
       "      <th>1.2</th>\n",
       "      <td>[2.5, 3.0]</td>\n",
       "      <td>[down, up]</td>\n",
       "    </tr>\n",
       "  </tbody>\n",
       "</table>\n",
       "</div>"
      ],
      "text/plain": [
       "             p_count       p_dir\n",
       "              unique      unique\n",
       "q                               \n",
       "0.3  [3.0, 2.0, 2.5]  [up, down]\n",
       "0.4  [3.0, 2.0, 2.5]  [up, down]\n",
       "0.5  [3.0, 2.0, 2.5]  [up, down]\n",
       "0.6  [2.5, 2.0, 3.0]  [down, up]\n",
       "0.7       [2.5, 3.0]  [down, up]\n",
       "0.8       [2.5, 3.0]  [down, up]\n",
       "0.9       [2.5, 3.0]  [down, up]\n",
       "1.0       [2.5, 3.0]  [down, up]\n",
       "1.1       [2.5, 3.0]  [down, up]\n",
       "1.2       [2.5, 3.0]  [down, up]"
      ]
     },
     "execution_count": 61,
     "metadata": {},
     "output_type": "execute_result"
    }
   ],
   "source": [
    "hard.groupby('q')['p_count', 'p_dir'].agg(['unique'])"
   ]
  },
  {
   "cell_type": "code",
   "execution_count": null,
   "metadata": {},
   "outputs": [],
   "source": []
  }
 ],
 "metadata": {
  "kernelspec": {
   "display_name": "Python 3",
   "language": "python",
   "name": "python3"
  },
  "language_info": {
   "codemirror_mode": {
    "name": "ipython",
    "version": 3
   },
   "file_extension": ".py",
   "mimetype": "text/x-python",
   "name": "python",
   "nbconvert_exporter": "python",
   "pygments_lexer": "ipython3",
   "version": "3.7.9"
  }
 },
 "nbformat": 4,
 "nbformat_minor": 4
}
